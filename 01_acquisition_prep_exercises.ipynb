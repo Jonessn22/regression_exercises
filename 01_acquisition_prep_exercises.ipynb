{
 "cells": [
  {
   "cell_type": "code",
   "execution_count": 1,
   "id": "e857e15d",
   "metadata": {},
   "outputs": [],
   "source": [
    "import numpy as np\n",
    "import pandas as pd\n",
    "\n",
    "from env import user, host, password\n",
    "\n",
    "import seaborn as sns\n",
    "import matplotlib.pyplot as plt\n",
    "\n",
    "import os"
   ]
  },
  {
   "cell_type": "markdown",
   "id": "b3f4ed68",
   "metadata": {},
   "source": [
    "# Acquire\n",
    "Acquire \n",
    "- `bedroomcnt`, \n",
    "- `bathroomcnt`, \n",
    "-`calculatedfinishedsquarefeet`, \n",
    "- `taxvaluedollarcnt`, \n",
    "- `yearbuilt`, \n",
    "- `taxamount`, and \n",
    "- `fips`\n",
    "\n",
    "from the zillow database for all 'Single Family Residential' properties."
   ]
  },
  {
   "cell_type": "markdown",
   "id": "e6592538",
   "metadata": {},
   "source": [
    "### Function to connect to Codeup mysql server"
   ]
  },
  {
   "cell_type": "code",
   "execution_count": 2,
   "id": "45aa44a9",
   "metadata": {},
   "outputs": [],
   "source": [
    "def get_connection(database_name):\n",
    "    '''\n",
    "    This function takes in a database name from the sequel server and returns a string with \n",
    "    the credentials needed to access that server.\n",
    "    '''\n",
    "    return f'mysql+pymysql://{user}:{password}@{host}/{database_name}'"
   ]
  },
  {
   "cell_type": "markdown",
   "id": "ea4b3a9d",
   "metadata": {},
   "source": [
    "### Function to acquire data from server\n",
    "1. created a variable to hold query\n",
    "2. can be updated or modified if want to make changes later"
   ]
  },
  {
   "cell_type": "code",
   "execution_count": 3,
   "id": "506999c9",
   "metadata": {},
   "outputs": [],
   "source": [
    "# 1. query used to acquire data from sql\n",
    "\n",
    "query = '''select bedroomcnt,\n",
    "    bathroomcnt,\n",
    "    calculatedfinishedsquarefeet,\n",
    "    taxvaluedollarcnt,\n",
    "    yearbuilt,\n",
    "    taxamount,\n",
    "    fips\n",
    "    from properties_2017\n",
    "    where propertylandusetypeid = 261;'''"
   ]
  },
  {
   "cell_type": "code",
   "execution_count": 4,
   "id": "2ece7a2c",
   "metadata": {},
   "outputs": [],
   "source": [
    "# 2. function to acquire data (uses the query)\n",
    "\n",
    "def get_zillow_data():\n",
    "    '''\n",
    "    This function reads the zillow database from the Codeup mysql server adn returns a dataframe\n",
    "    If a local csv file does not exist, this function writes the data to a csv file\n",
    "    The local file can be used as a backup in the event that you cannot access the mysql database\n",
    "    '''\n",
    "    \n",
    "    \n",
    "    if os.path.isfile('zillow.csv'):\n",
    "# if a local file already exists\n",
    "        df = pd.read_csv('zillow.csv', index_col = 0)\n",
    "        \n",
    "    else:\n",
    "# if a local file does not yet exist\n",
    "        df = pd.read_sql(query, get_connection('zillow'))\n",
    "\n",
    "# and cache data into csv file\n",
    "        df.to_csv('zillow.csv')\n",
    "    \n",
    "    return df"
   ]
  },
  {
   "cell_type": "markdown",
   "id": "891dfca2",
   "metadata": {},
   "source": [
    "### Taking a look at the data"
   ]
  },
  {
   "cell_type": "code",
   "execution_count": 5,
   "id": "76ff5105",
   "metadata": {},
   "outputs": [
    {
     "name": "stderr",
     "output_type": "stream",
     "text": [
      "/usr/local/anaconda3/lib/python3.8/site-packages/numpy/lib/arraysetops.py:583: FutureWarning: elementwise comparison failed; returning scalar instead, but in the future will perform elementwise comparison\n",
      "  mask |= (ar1 == a)\n"
     ]
    },
    {
     "data": {
      "text/html": [
       "<div>\n",
       "<style scoped>\n",
       "    .dataframe tbody tr th:only-of-type {\n",
       "        vertical-align: middle;\n",
       "    }\n",
       "\n",
       "    .dataframe tbody tr th {\n",
       "        vertical-align: top;\n",
       "    }\n",
       "\n",
       "    .dataframe thead th {\n",
       "        text-align: right;\n",
       "    }\n",
       "</style>\n",
       "<table border=\"1\" class=\"dataframe\">\n",
       "  <thead>\n",
       "    <tr style=\"text-align: right;\">\n",
       "      <th></th>\n",
       "      <th>bedroomcnt</th>\n",
       "      <th>bathroomcnt</th>\n",
       "      <th>calculatedfinishedsquarefeet</th>\n",
       "      <th>taxvaluedollarcnt</th>\n",
       "      <th>yearbuilt</th>\n",
       "      <th>taxamount</th>\n",
       "      <th>fips</th>\n",
       "    </tr>\n",
       "  </thead>\n",
       "  <tbody>\n",
       "    <tr>\n",
       "      <th>0</th>\n",
       "      <td>0.0</td>\n",
       "      <td>0.0</td>\n",
       "      <td>NaN</td>\n",
       "      <td>27516.0</td>\n",
       "      <td>NaN</td>\n",
       "      <td>NaN</td>\n",
       "      <td>6037.0</td>\n",
       "    </tr>\n",
       "    <tr>\n",
       "      <th>1</th>\n",
       "      <td>0.0</td>\n",
       "      <td>0.0</td>\n",
       "      <td>NaN</td>\n",
       "      <td>10.0</td>\n",
       "      <td>NaN</td>\n",
       "      <td>NaN</td>\n",
       "      <td>6037.0</td>\n",
       "    </tr>\n",
       "    <tr>\n",
       "      <th>2</th>\n",
       "      <td>0.0</td>\n",
       "      <td>0.0</td>\n",
       "      <td>NaN</td>\n",
       "      <td>10.0</td>\n",
       "      <td>NaN</td>\n",
       "      <td>NaN</td>\n",
       "      <td>6037.0</td>\n",
       "    </tr>\n",
       "    <tr>\n",
       "      <th>3</th>\n",
       "      <td>0.0</td>\n",
       "      <td>0.0</td>\n",
       "      <td>NaN</td>\n",
       "      <td>2108.0</td>\n",
       "      <td>NaN</td>\n",
       "      <td>174.21</td>\n",
       "      <td>6037.0</td>\n",
       "    </tr>\n",
       "    <tr>\n",
       "      <th>4</th>\n",
       "      <td>4.0</td>\n",
       "      <td>2.0</td>\n",
       "      <td>3633.0</td>\n",
       "      <td>296425.0</td>\n",
       "      <td>2005.0</td>\n",
       "      <td>6941.39</td>\n",
       "      <td>6037.0</td>\n",
       "    </tr>\n",
       "  </tbody>\n",
       "</table>\n",
       "</div>"
      ],
      "text/plain": [
       "   bedroomcnt  bathroomcnt  calculatedfinishedsquarefeet  taxvaluedollarcnt  \\\n",
       "0         0.0          0.0                           NaN            27516.0   \n",
       "1         0.0          0.0                           NaN               10.0   \n",
       "2         0.0          0.0                           NaN               10.0   \n",
       "3         0.0          0.0                           NaN             2108.0   \n",
       "4         4.0          2.0                        3633.0           296425.0   \n",
       "\n",
       "   yearbuilt  taxamount    fips  \n",
       "0        NaN        NaN  6037.0  \n",
       "1        NaN        NaN  6037.0  \n",
       "2        NaN        NaN  6037.0  \n",
       "3        NaN     174.21  6037.0  \n",
       "4     2005.0    6941.39  6037.0  "
      ]
     },
     "execution_count": 5,
     "metadata": {},
     "output_type": "execute_result"
    }
   ],
   "source": [
    "# peak at the data\n",
    "\n",
    "zillow = get_zillow_data()\n",
    "zillow.head()"
   ]
  },
  {
   "cell_type": "markdown",
   "id": "04a730a5",
   "metadata": {},
   "source": [
    "# 2. Summarization and Cleaning"
   ]
  },
  {
   "cell_type": "code",
   "execution_count": 6,
   "id": "87cb24c3",
   "metadata": {},
   "outputs": [
    {
     "name": "stdout",
     "output_type": "stream",
     "text": [
      "Rows: 2152863\n",
      "Columns: 7\n"
     ]
    }
   ],
   "source": [
    "print(f'Rows: {zillow.shape[0]}\\nColumns: {zillow.shape[1]}')"
   ]
  },
  {
   "cell_type": "code",
   "execution_count": 7,
   "id": "ffd185b3",
   "metadata": {},
   "outputs": [
    {
     "data": {
      "text/html": [
       "<div>\n",
       "<style scoped>\n",
       "    .dataframe tbody tr th:only-of-type {\n",
       "        vertical-align: middle;\n",
       "    }\n",
       "\n",
       "    .dataframe tbody tr th {\n",
       "        vertical-align: top;\n",
       "    }\n",
       "\n",
       "    .dataframe thead th {\n",
       "        text-align: right;\n",
       "    }\n",
       "</style>\n",
       "<table border=\"1\" class=\"dataframe\">\n",
       "  <thead>\n",
       "    <tr style=\"text-align: right;\">\n",
       "      <th></th>\n",
       "      <th>count</th>\n",
       "      <th>mean</th>\n",
       "      <th>std</th>\n",
       "      <th>min</th>\n",
       "      <th>25%</th>\n",
       "      <th>50%</th>\n",
       "      <th>75%</th>\n",
       "      <th>max</th>\n",
       "    </tr>\n",
       "  </thead>\n",
       "  <tbody>\n",
       "    <tr>\n",
       "      <th>bedroomcnt</th>\n",
       "      <td>2152852.0</td>\n",
       "      <td>3.287196</td>\n",
       "      <td>0.954754</td>\n",
       "      <td>0.00</td>\n",
       "      <td>3.00</td>\n",
       "      <td>3.00</td>\n",
       "      <td>4.00</td>\n",
       "      <td>25.00</td>\n",
       "    </tr>\n",
       "    <tr>\n",
       "      <th>bathroomcnt</th>\n",
       "      <td>2152852.0</td>\n",
       "      <td>2.230688</td>\n",
       "      <td>0.999280</td>\n",
       "      <td>0.00</td>\n",
       "      <td>2.00</td>\n",
       "      <td>2.00</td>\n",
       "      <td>3.00</td>\n",
       "      <td>32.00</td>\n",
       "    </tr>\n",
       "    <tr>\n",
       "      <th>calculatedfinishedsquarefeet</th>\n",
       "      <td>2144379.0</td>\n",
       "      <td>1862.855178</td>\n",
       "      <td>1222.125124</td>\n",
       "      <td>1.00</td>\n",
       "      <td>1257.00</td>\n",
       "      <td>1623.00</td>\n",
       "      <td>2208.00</td>\n",
       "      <td>952576.00</td>\n",
       "    </tr>\n",
       "    <tr>\n",
       "      <th>taxvaluedollarcnt</th>\n",
       "      <td>2152370.0</td>\n",
       "      <td>461896.237963</td>\n",
       "      <td>699676.049600</td>\n",
       "      <td>1.00</td>\n",
       "      <td>188170.25</td>\n",
       "      <td>327671.00</td>\n",
       "      <td>534527.00</td>\n",
       "      <td>98428909.00</td>\n",
       "    </tr>\n",
       "    <tr>\n",
       "      <th>yearbuilt</th>\n",
       "      <td>2143526.0</td>\n",
       "      <td>1960.949681</td>\n",
       "      <td>22.162196</td>\n",
       "      <td>1801.00</td>\n",
       "      <td>1949.00</td>\n",
       "      <td>1958.00</td>\n",
       "      <td>1976.00</td>\n",
       "      <td>2016.00</td>\n",
       "    </tr>\n",
       "    <tr>\n",
       "      <th>taxamount</th>\n",
       "      <td>2148421.0</td>\n",
       "      <td>5634.865978</td>\n",
       "      <td>8178.910249</td>\n",
       "      <td>1.85</td>\n",
       "      <td>2534.98</td>\n",
       "      <td>4108.95</td>\n",
       "      <td>6414.32</td>\n",
       "      <td>1337755.86</td>\n",
       "    </tr>\n",
       "    <tr>\n",
       "      <th>fips</th>\n",
       "      <td>2152863.0</td>\n",
       "      <td>6048.377335</td>\n",
       "      <td>20.433292</td>\n",
       "      <td>6037.00</td>\n",
       "      <td>6037.00</td>\n",
       "      <td>6037.00</td>\n",
       "      <td>6059.00</td>\n",
       "      <td>6111.00</td>\n",
       "    </tr>\n",
       "  </tbody>\n",
       "</table>\n",
       "</div>"
      ],
      "text/plain": [
       "                                  count           mean            std  \\\n",
       "bedroomcnt                    2152852.0       3.287196       0.954754   \n",
       "bathroomcnt                   2152852.0       2.230688       0.999280   \n",
       "calculatedfinishedsquarefeet  2144379.0    1862.855178    1222.125124   \n",
       "taxvaluedollarcnt             2152370.0  461896.237963  699676.049600   \n",
       "yearbuilt                     2143526.0    1960.949681      22.162196   \n",
       "taxamount                     2148421.0    5634.865978    8178.910249   \n",
       "fips                          2152863.0    6048.377335      20.433292   \n",
       "\n",
       "                                  min        25%        50%        75%  \\\n",
       "bedroomcnt                       0.00       3.00       3.00       4.00   \n",
       "bathroomcnt                      0.00       2.00       2.00       3.00   \n",
       "calculatedfinishedsquarefeet     1.00    1257.00    1623.00    2208.00   \n",
       "taxvaluedollarcnt                1.00  188170.25  327671.00  534527.00   \n",
       "yearbuilt                     1801.00    1949.00    1958.00    1976.00   \n",
       "taxamount                        1.85    2534.98    4108.95    6414.32   \n",
       "fips                          6037.00    6037.00    6037.00    6059.00   \n",
       "\n",
       "                                      max  \n",
       "bedroomcnt                          25.00  \n",
       "bathroomcnt                         32.00  \n",
       "calculatedfinishedsquarefeet    952576.00  \n",
       "taxvaluedollarcnt             98428909.00  \n",
       "yearbuilt                         2016.00  \n",
       "taxamount                      1337755.86  \n",
       "fips                              6111.00  "
      ]
     },
     "execution_count": 7,
     "metadata": {},
     "output_type": "execute_result"
    }
   ],
   "source": [
    "zillow.describe().T"
   ]
  },
  {
   "cell_type": "markdown",
   "id": "2eb10886",
   "metadata": {},
   "source": [
    "### Handling our null values"
   ]
  },
  {
   "cell_type": "code",
   "execution_count": 8,
   "id": "8f876334",
   "metadata": {},
   "outputs": [
    {
     "name": "stdout",
     "output_type": "stream",
     "text": [
      "<class 'pandas.core.frame.DataFrame'>\n",
      "Int64Index: 2152863 entries, 0 to 2152862\n",
      "Data columns (total 7 columns):\n",
      " #   Column                        Non-Null Count    Dtype  \n",
      "---  ------                        --------------    -----  \n",
      " 0   bedroomcnt                    2152852 non-null  float64\n",
      " 1   bathroomcnt                   2152852 non-null  float64\n",
      " 2   calculatedfinishedsquarefeet  2144379 non-null  float64\n",
      " 3   taxvaluedollarcnt             2152370 non-null  float64\n",
      " 4   yearbuilt                     2143526 non-null  float64\n",
      " 5   taxamount                     2148421 non-null  float64\n",
      " 6   fips                          2152863 non-null  float64\n",
      "dtypes: float64(7)\n",
      "memory usage: 131.4 MB\n"
     ]
    }
   ],
   "source": [
    "zillow.info(show_counts = True)"
   ]
  },
  {
   "cell_type": "code",
   "execution_count": 9,
   "id": "32aac92e",
   "metadata": {
    "scrolled": true
   },
   "outputs": [
    {
     "name": "stdout",
     "output_type": "stream",
     "text": [
      "bedroomcnt                      0.000005\n",
      "bathroomcnt                     0.000005\n",
      "calculatedfinishedsquarefeet    0.003941\n",
      "taxvaluedollarcnt               0.000229\n",
      "yearbuilt                       0.004337\n",
      "taxamount                       0.002063\n",
      "fips                            0.000000\n",
      "dtype: float64\n"
     ]
    }
   ],
   "source": [
    "# percentage of null values in each column to total values\n",
    "\n",
    "print(f'{(zillow.isna().sum()) / (zillow.shape[0])}')\n"
   ]
  },
  {
   "cell_type": "markdown",
   "id": "3274f125",
   "metadata": {},
   "source": [
    "### We have such a small percentage of nulls compared to total that we can drop those rows"
   ]
  },
  {
   "cell_type": "code",
   "execution_count": 10,
   "id": "fe7c8b8b",
   "metadata": {},
   "outputs": [],
   "source": [
    "# dropping null rows\n",
    "\n",
    "zillow.dropna(inplace = True)"
   ]
  },
  {
   "cell_type": "code",
   "execution_count": 11,
   "id": "bf75cf9f",
   "metadata": {},
   "outputs": [
    {
     "data": {
      "text/plain": [
       "bedroomcnt                      0\n",
       "bathroomcnt                     0\n",
       "calculatedfinishedsquarefeet    0\n",
       "taxvaluedollarcnt               0\n",
       "yearbuilt                       0\n",
       "taxamount                       0\n",
       "fips                            0\n",
       "dtype: int64"
      ]
     },
     "execution_count": 11,
     "metadata": {},
     "output_type": "execute_result"
    }
   ],
   "source": [
    "# confirming no null values in df\n",
    "\n",
    "zillow.isna().sum()"
   ]
  },
  {
   "cell_type": "markdown",
   "id": "18f8d181",
   "metadata": {},
   "source": [
    "### Cleaning up our column names and data types"
   ]
  },
  {
   "cell_type": "code",
   "execution_count": 12,
   "id": "2e4e82a1",
   "metadata": {
    "scrolled": false
   },
   "outputs": [
    {
     "name": "stdout",
     "output_type": "stream",
     "text": [
      "bedroomcnt\n",
      "3.0     962944\n",
      "4.0     633608\n",
      "2.0     334221\n",
      "5.0     150671\n",
      "6.0      25117\n",
      "1.0      22895\n",
      "7.0       4792\n",
      "0.0       4397\n",
      "8.0       1103\n",
      "9.0        290\n",
      "10.0       118\n",
      "11.0        34\n",
      "13.0        15\n",
      "12.0        12\n",
      "14.0         7\n",
      "15.0         5\n",
      "18.0         3\n",
      "16.0         2\n",
      "25.0         1\n",
      "Name: bedroomcnt, dtype: int64\n",
      "------------------------\n",
      "\n",
      "bathroomcnt\n",
      "2.00     942463\n",
      "3.00     422398\n",
      "1.00     412582\n",
      "2.50     142827\n",
      "4.00      82039\n",
      "1.50      31157\n",
      "3.50      28464\n",
      "5.00      28306\n",
      "4.50      19474\n",
      "6.00      10717\n",
      "5.50       6201\n",
      "7.00       4381\n",
      "0.00       4274\n",
      "8.00       1681\n",
      "6.50       1330\n",
      "9.00        707\n",
      "7.50        382\n",
      "10.00       322\n",
      "11.00       145\n",
      "8.50        108\n",
      "12.00        73\n",
      "9.50         50\n",
      "13.00        39\n",
      "14.00        25\n",
      "15.00        17\n",
      "0.50         16\n",
      "10.50        14\n",
      "16.00        12\n",
      "18.00         8\n",
      "20.00         6\n",
      "17.00         4\n",
      "1.75          3\n",
      "12.50         3\n",
      "11.50         3\n",
      "14.50         1\n",
      "32.00         1\n",
      "19.50         1\n",
      "19.00         1\n",
      "Name: bathroomcnt, dtype: int64\n",
      "------------------------\n",
      "\n",
      "calculatedfinishedsquarefeet\n",
      "1200.0     5184\n",
      "1080.0     4376\n",
      "1120.0     4354\n",
      "1400.0     3828\n",
      "1440.0     3684\n",
      "           ... \n",
      "7287.0        1\n",
      "9608.0        1\n",
      "9344.0        1\n",
      "20327.0       1\n",
      "7495.0        1\n",
      "Name: calculatedfinishedsquarefeet, Length: 10557, dtype: int64\n",
      "------------------------\n",
      "\n",
      "taxvaluedollarcnt\n",
      "450000.0     820\n",
      "500000.0     774\n",
      "400000.0     723\n",
      "430000.0     690\n",
      "440000.0     683\n",
      "            ... \n",
      "1210005.0      1\n",
      "238757.0       1\n",
      "1082111.0      1\n",
      "1216800.0      1\n",
      "1436013.0      1\n",
      "Name: taxvaluedollarcnt, Length: 588178, dtype: int64\n",
      "------------------------\n",
      "\n",
      "yearbuilt\n",
      "1955.0    84329\n",
      "1950.0    71606\n",
      "1954.0    69069\n",
      "1953.0    62270\n",
      "1956.0    61858\n",
      "          ...  \n",
      "1879.0        1\n",
      "1877.0        1\n",
      "1855.0        1\n",
      "1874.0        1\n",
      "1823.0        1\n",
      "Name: yearbuilt, Length: 153, dtype: int64\n",
      "------------------------\n",
      "\n",
      "taxamount\n",
      "345.72      172\n",
      "344.18       76\n",
      "343.52       74\n",
      "49.18        46\n",
      "388.18       37\n",
      "           ... \n",
      "14287.41      1\n",
      "16085.37      1\n",
      "2638.49       1\n",
      "15390.19      1\n",
      "19517.64      1\n",
      "Name: taxamount, Length: 915868, dtype: int64\n",
      "------------------------\n",
      "\n",
      "fips\n",
      "6037.0    1425207\n",
      "6059.0     552057\n",
      "6111.0     162971\n",
      "Name: fips, dtype: int64\n",
      "------------------------\n",
      "\n"
     ]
    }
   ],
   "source": [
    "# looking at the values for each column and creating a cols list\n",
    "cols = []\n",
    "\n",
    "for col in zillow.columns:\n",
    "    cols.append(col)\n",
    "    print(col)\n",
    "    print(zillow[col].value_counts())\n",
    "    print('------------------------')\n",
    "    print()"
   ]
  },
  {
   "cell_type": "code",
   "execution_count": 13,
   "id": "0ca88a8d",
   "metadata": {},
   "outputs": [
    {
     "data": {
      "text/plain": [
       "['bedroomcnt',\n",
       " 'bathroomcnt',\n",
       " 'calculatedfinishedsquarefeet',\n",
       " 'taxvaluedollarcnt',\n",
       " 'yearbuilt',\n",
       " 'taxamount',\n",
       " 'fips']"
      ]
     },
     "execution_count": 13,
     "metadata": {},
     "output_type": "execute_result"
    }
   ],
   "source": [
    "cols"
   ]
  },
  {
   "cell_type": "code",
   "execution_count": 14,
   "id": "a8cd46bd",
   "metadata": {},
   "outputs": [],
   "source": [
    "# renaming columns\n",
    "\n",
    "zillow.rename(columns = {'bedroomcnt': 'bedrooms',\n",
    "                         'bathroomcnt': 'bathrooms',\n",
    "                         'calculatedfinishedsquarefeet': 'sqft',\n",
    "                         'taxvaluedollarcnt': 'tax_value',\n",
    "                         'yearbuilt': 'year_built',\n",
    "                         'taxamount': 'tax_amt',\n",
    "                         'fips': 'fips'}, inplace = True)"
   ]
  },
  {
   "cell_type": "code",
   "execution_count": 15,
   "id": "735ca028",
   "metadata": {
    "scrolled": true
   },
   "outputs": [
    {
     "name": "stdout",
     "output_type": "stream",
     "text": [
      "All columns: ['bedrooms', 'bathrooms', 'sqft', 'tax_value', 'year_built', 'tax_amt', 'fips']\n",
      "\n",
      "Float columns: ['bathrooms', 'sqft', 'tax_value', 'tax_amt']\n",
      "Integer columns: ['bedrooms', 'year_built', 'fips']\n"
     ]
    }
   ],
   "source": [
    "# preparing for loop that converts floats ------> to integers by creating 2 lists from columns\n",
    "cols = zillow.columns\n",
    "cols = cols.to_list()\n",
    "print(f'All columns: {cols}\\n')\n",
    "\n",
    "flt_cols = ['bathrooms', 'sqft', 'tax_value', 'tax_amt']\n",
    "int_cols = ['bedrooms', 'year_built', 'fips']\n",
    "print(f'Float columns: {flt_cols}')\n",
    "print(f'Integer columns: {int_cols}')"
   ]
  },
  {
   "cell_type": "code",
   "execution_count": 16,
   "id": "ec0109f8",
   "metadata": {
    "scrolled": true
   },
   "outputs": [],
   "source": [
    "# for loop to convert floats to -----> int\n",
    "\n",
    "for col in int_cols:\n",
    "    zillow[col] = zillow[col].astype(int)"
   ]
  },
  {
   "cell_type": "code",
   "execution_count": 17,
   "id": "ec8a35fa",
   "metadata": {},
   "outputs": [
    {
     "data": {
      "text/plain": [
       "bedrooms        int64\n",
       "bathrooms     float64\n",
       "sqft          float64\n",
       "tax_value     float64\n",
       "year_built      int64\n",
       "tax_amt       float64\n",
       "fips            int64\n",
       "dtype: object"
      ]
     },
     "execution_count": 17,
     "metadata": {},
     "output_type": "execute_result"
    }
   ],
   "source": [
    "# confirming our dtypes have been updated\n",
    "\n",
    "zillow.dtypes"
   ]
  },
  {
   "cell_type": "markdown",
   "id": "ff1ad1ca",
   "metadata": {},
   "source": [
    "https://github.com/CodeupClassroom/germain-regression-exercises/blob/main/wrangle_exercise_review.ipynb\n",
    "<br><i>referenced for loop from Germain regression wrange_exercises_review.ipynb solutions</i>"
   ]
  },
  {
   "cell_type": "code",
   "execution_count": 18,
   "id": "ff613d94",
   "metadata": {},
   "outputs": [],
   "source": [
    "# # variable distributions\n",
    "\n",
    "# plt.figure(figsize = (15, 5))\n",
    "\n",
    "# for i, col in enumerate(cols):\n",
    "# # i starts at 0, but I want the plot number to start at 1 ---> adding 1\n",
    "#     plot_number = 1 + 1\n",
    "  \n",
    "    \n",
    "#     plt.subplot(1, len(cols), plot_number)\n",
    "    \n",
    "# # title with column name\n",
    "#     plt.title(col)\n",
    "    \n",
    "# # creating histogram\n",
    "#     zillow[col].hist(bins = 5)\n",
    "    \n",
    "\n"
   ]
  },
  {
   "cell_type": "markdown",
   "id": "edc78468",
   "metadata": {},
   "source": [
    "### Summary Takeaways:\n",
    ">All but `fips` column has null values<br>\n",
    "all variables are floats\n",
    "can change following to int:\n",
    "- `yearbuilt`\n",
    "- `fips`"
   ]
  },
  {
   "cell_type": "code",
   "execution_count": null,
   "id": "e9fb3876",
   "metadata": {},
   "outputs": [],
   "source": []
  }
 ],
 "metadata": {
  "kernelspec": {
   "display_name": "Python 3",
   "language": "python",
   "name": "python3"
  },
  "language_info": {
   "codemirror_mode": {
    "name": "ipython",
    "version": 3
   },
   "file_extension": ".py",
   "mimetype": "text/x-python",
   "name": "python",
   "nbconvert_exporter": "python",
   "pygments_lexer": "ipython3",
   "version": "3.8.8"
  }
 },
 "nbformat": 4,
 "nbformat_minor": 5
}
