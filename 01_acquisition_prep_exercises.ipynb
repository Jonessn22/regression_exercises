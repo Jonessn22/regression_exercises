{
 "cells": [
  {
   "cell_type": "code",
   "execution_count": 44,
   "id": "e857e15d",
   "metadata": {},
   "outputs": [],
   "source": [
    "import pandas as pd\n",
    "import numpy as np\n",
    "\n",
    "from env import user, password, host\n",
    "\n",
    "import matplotlib.pyplot as plt\n",
    "import seaborn as sns\n",
    "\n",
    "from sklearn.model_selection import train_test_split\n",
    "from sklearn.impute import SimpleImputer\n",
    "\n",
    "import warnings\n",
    "warnings.filterwarnings(\"ignore\")"
   ]
  },
  {
   "cell_type": "markdown",
   "id": "63f2bf3c",
   "metadata": {},
   "source": [
    "## Data Dictionary"
   ]
  },
  {
   "cell_type": "code",
   "execution_count": 43,
   "id": "c3ec6a2e",
   "metadata": {},
   "outputs": [
    {
     "data": {
      "text/html": [
       "<div>\n",
       "<style scoped>\n",
       "    .dataframe tbody tr th:only-of-type {\n",
       "        vertical-align: middle;\n",
       "    }\n",
       "\n",
       "    .dataframe tbody tr th {\n",
       "        vertical-align: top;\n",
       "    }\n",
       "\n",
       "    .dataframe thead th {\n",
       "        text-align: right;\n",
       "    }\n",
       "</style>\n",
       "<table border=\"1\" class=\"dataframe\">\n",
       "  <thead>\n",
       "    <tr style=\"text-align: right;\">\n",
       "      <th></th>\n",
       "      <th>Feature</th>\n",
       "      <th>Description</th>\n",
       "    </tr>\n",
       "  </thead>\n",
       "  <tbody>\n",
       "    <tr>\n",
       "      <th>0</th>\n",
       "      <td>'airconditioningtypeid'</td>\n",
       "      <td>Type of cooling system present in the home (i...</td>\n",
       "    </tr>\n",
       "    <tr>\n",
       "      <th>1</th>\n",
       "      <td>'architecturalstyletypeid'</td>\n",
       "      <td>Architectural style of the home (i.e. ranch, ...</td>\n",
       "    </tr>\n",
       "    <tr>\n",
       "      <th>55</th>\n",
       "      <td>'assessmentyear'</td>\n",
       "      <td>The year of the property tax assessment</td>\n",
       "    </tr>\n",
       "    <tr>\n",
       "      <th>2</th>\n",
       "      <td>'basementsqft'</td>\n",
       "      <td>Finished living area below or partially below...</td>\n",
       "    </tr>\n",
       "    <tr>\n",
       "      <th>3</th>\n",
       "      <td>'bathroomcnt'</td>\n",
       "      <td>Number of bathrooms in home including fractio...</td>\n",
       "    </tr>\n",
       "    <tr>\n",
       "      <th>4</th>\n",
       "      <td>'bedroomcnt'</td>\n",
       "      <td>Number of bedrooms in home</td>\n",
       "    </tr>\n",
       "    <tr>\n",
       "      <th>6</th>\n",
       "      <td>'buildingclasstypeid'</td>\n",
       "      <td>The building framing type (steel frame, wood f...</td>\n",
       "    </tr>\n",
       "    <tr>\n",
       "      <th>5</th>\n",
       "      <td>'buildingqualitytypeid'</td>\n",
       "      <td>Overall assessment of condition of the buildi...</td>\n",
       "    </tr>\n",
       "    <tr>\n",
       "      <th>7</th>\n",
       "      <td>'calculatedbathnbr'</td>\n",
       "      <td>Number of bathrooms in home including fractio...</td>\n",
       "    </tr>\n",
       "    <tr>\n",
       "      <th>11</th>\n",
       "      <td>'calculatedfinishedsquarefeet'</td>\n",
       "      <td>Calculated total finished living area of the ...</td>\n",
       "    </tr>\n",
       "    <tr>\n",
       "      <th>39</th>\n",
       "      <td>'censustractandblock'</td>\n",
       "      <td>Census tract and block ID combined - also con...</td>\n",
       "    </tr>\n",
       "    <tr>\n",
       "      <th>8</th>\n",
       "      <td>'decktypeid'</td>\n",
       "      <td>Type of deck (if any) present on parcel</td>\n",
       "    </tr>\n",
       "    <tr>\n",
       "      <th>10</th>\n",
       "      <td>'finishedfloor1squarefeet'</td>\n",
       "      <td>Size of the finished living area on the first...</td>\n",
       "    </tr>\n",
       "    <tr>\n",
       "      <th>13</th>\n",
       "      <td>'finishedsquarefeet12'</td>\n",
       "      <td>Finished living area</td>\n",
       "    </tr>\n",
       "    <tr>\n",
       "      <th>14</th>\n",
       "      <td>'finishedsquarefeet13'</td>\n",
       "      <td>Perimeter  living area</td>\n",
       "    </tr>\n",
       "    <tr>\n",
       "      <th>15</th>\n",
       "      <td>'finishedsquarefeet15'</td>\n",
       "      <td>Total area</td>\n",
       "    </tr>\n",
       "    <tr>\n",
       "      <th>16</th>\n",
       "      <td>'finishedsquarefeet50'</td>\n",
       "      <td>Size of the finished living area on the first...</td>\n",
       "    </tr>\n",
       "    <tr>\n",
       "      <th>12</th>\n",
       "      <td>'finishedsquarefeet6'</td>\n",
       "      <td>Base unfinished and finished area</td>\n",
       "    </tr>\n",
       "    <tr>\n",
       "      <th>17</th>\n",
       "      <td>'fips'</td>\n",
       "      <td>Federal Information Processing Standard code ...</td>\n",
       "    </tr>\n",
       "    <tr>\n",
       "      <th>18</th>\n",
       "      <td>'fireplacecnt'</td>\n",
       "      <td>Number of fireplaces in a home (if any)</td>\n",
       "    </tr>\n",
       "    <tr>\n",
       "      <th>19</th>\n",
       "      <td>'fireplaceflag'</td>\n",
       "      <td>Is a fireplace present in this home</td>\n",
       "    </tr>\n",
       "    <tr>\n",
       "      <th>20</th>\n",
       "      <td>'fullbathcnt'</td>\n",
       "      <td>Number of full bathrooms (sink, shower + bath...</td>\n",
       "    </tr>\n",
       "    <tr>\n",
       "      <th>21</th>\n",
       "      <td>'garagecarcnt'</td>\n",
       "      <td>Total number of garages on the lot including ...</td>\n",
       "    </tr>\n",
       "    <tr>\n",
       "      <th>22</th>\n",
       "      <td>'garagetotalsqft'</td>\n",
       "      <td>Total number of square feet of all garages on...</td>\n",
       "    </tr>\n",
       "    <tr>\n",
       "      <th>23</th>\n",
       "      <td>'hashottuborspa'</td>\n",
       "      <td>Does the home have a hot tub or spa</td>\n",
       "    </tr>\n",
       "    <tr>\n",
       "      <th>24</th>\n",
       "      <td>'heatingorsystemtypeid'</td>\n",
       "      <td>Type of home heating system</td>\n",
       "    </tr>\n",
       "    <tr>\n",
       "      <th>53</th>\n",
       "      <td>'landtaxvaluedollarcnt'</td>\n",
       "      <td>The assessed value of the land area of the parcel</td>\n",
       "    </tr>\n",
       "    <tr>\n",
       "      <th>25</th>\n",
       "      <td>'latitude'</td>\n",
       "      <td>Latitude of the middle of the parcel multipli...</td>\n",
       "    </tr>\n",
       "    <tr>\n",
       "      <th>26</th>\n",
       "      <td>'longitude'</td>\n",
       "      <td>Longitude of the middle of the parcel multipl...</td>\n",
       "    </tr>\n",
       "    <tr>\n",
       "      <th>27</th>\n",
       "      <td>'lotsizesquarefeet'</td>\n",
       "      <td>Area of the lot in square feet</td>\n",
       "    </tr>\n",
       "    <tr>\n",
       "      <th>28</th>\n",
       "      <td>'numberofstories'</td>\n",
       "      <td>Number of stories or levels the home has</td>\n",
       "    </tr>\n",
       "    <tr>\n",
       "      <th>29</th>\n",
       "      <td>'parcelid'</td>\n",
       "      <td>Unique identifier for parcels (lots)</td>\n",
       "    </tr>\n",
       "    <tr>\n",
       "      <th>30</th>\n",
       "      <td>'poolcnt'</td>\n",
       "      <td>Number of pools on the lot (if any)</td>\n",
       "    </tr>\n",
       "    <tr>\n",
       "      <th>31</th>\n",
       "      <td>'poolsizesum'</td>\n",
       "      <td>Total square footage of all pools on property</td>\n",
       "    </tr>\n",
       "    <tr>\n",
       "      <th>32</th>\n",
       "      <td>'pooltypeid10'</td>\n",
       "      <td>Spa or Hot Tub</td>\n",
       "    </tr>\n",
       "    <tr>\n",
       "      <th>33</th>\n",
       "      <td>'pooltypeid2'</td>\n",
       "      <td>Pool with Spa/Hot Tub</td>\n",
       "    </tr>\n",
       "    <tr>\n",
       "      <th>34</th>\n",
       "      <td>'pooltypeid7'</td>\n",
       "      <td>Pool without hot tub</td>\n",
       "    </tr>\n",
       "    <tr>\n",
       "      <th>35</th>\n",
       "      <td>'propertycountylandusecode'</td>\n",
       "      <td>County land use code i.e. it's zoning at the ...</td>\n",
       "    </tr>\n",
       "    <tr>\n",
       "      <th>36</th>\n",
       "      <td>'propertylandusetypeid'</td>\n",
       "      <td>Type of land use the property is zoned for</td>\n",
       "    </tr>\n",
       "    <tr>\n",
       "      <th>37</th>\n",
       "      <td>'propertyzoningdesc'</td>\n",
       "      <td>Description of the allowed land uses (zoning)...</td>\n",
       "    </tr>\n",
       "    <tr>\n",
       "      <th>38</th>\n",
       "      <td>'rawcensustractandblock'</td>\n",
       "      <td>Census tract and block ID combined - also con...</td>\n",
       "    </tr>\n",
       "    <tr>\n",
       "      <th>41</th>\n",
       "      <td>'regionidcity'</td>\n",
       "      <td>City in which the property is located (if any)</td>\n",
       "    </tr>\n",
       "    <tr>\n",
       "      <th>40</th>\n",
       "      <td>'regionidcounty'</td>\n",
       "      <td>County in which the property is located</td>\n",
       "    </tr>\n",
       "    <tr>\n",
       "      <th>43</th>\n",
       "      <td>'regionidneighborhood'</td>\n",
       "      <td>Neighborhood in which the property is located</td>\n",
       "    </tr>\n",
       "    <tr>\n",
       "      <th>42</th>\n",
       "      <td>'regionidzip'</td>\n",
       "      <td>Zip code in which the property is located</td>\n",
       "    </tr>\n",
       "    <tr>\n",
       "      <th>44</th>\n",
       "      <td>'roomcnt'</td>\n",
       "      <td>Total number of rooms in the principal residence</td>\n",
       "    </tr>\n",
       "    <tr>\n",
       "      <th>45</th>\n",
       "      <td>'storytypeid'</td>\n",
       "      <td>Type of floors in a multi-story house (i.e. b...</td>\n",
       "    </tr>\n",
       "    <tr>\n",
       "      <th>52</th>\n",
       "      <td>'structuretaxvaluedollarcnt'</td>\n",
       "      <td>The assessed value of the built structure on t...</td>\n",
       "    </tr>\n",
       "    <tr>\n",
       "      <th>54</th>\n",
       "      <td>'taxamount'</td>\n",
       "      <td>The total property tax assessed for that asses...</td>\n",
       "    </tr>\n",
       "    <tr>\n",
       "      <th>56</th>\n",
       "      <td>'taxdelinquencyflag'</td>\n",
       "      <td>Property taxes for this parcel are past due as...</td>\n",
       "    </tr>\n",
       "    <tr>\n",
       "      <th>57</th>\n",
       "      <td>'taxdelinquencyyear'</td>\n",
       "      <td>Year for which the unpaid propert taxes were due</td>\n",
       "    </tr>\n",
       "    <tr>\n",
       "      <th>51</th>\n",
       "      <td>'taxvaluedollarcnt'</td>\n",
       "      <td>The total tax assessed value of the parcel</td>\n",
       "    </tr>\n",
       "    <tr>\n",
       "      <th>9</th>\n",
       "      <td>'threequarterbathnbr'</td>\n",
       "      <td>Number of 3/4 bathrooms in house (shower + si...</td>\n",
       "    </tr>\n",
       "    <tr>\n",
       "      <th>46</th>\n",
       "      <td>'typeconstructiontypeid'</td>\n",
       "      <td>What type of construction material was used t...</td>\n",
       "    </tr>\n",
       "    <tr>\n",
       "      <th>47</th>\n",
       "      <td>'unitcnt'</td>\n",
       "      <td>Number of units the structure is built into (...</td>\n",
       "    </tr>\n",
       "    <tr>\n",
       "      <th>48</th>\n",
       "      <td>'yardbuildingsqft17'</td>\n",
       "      <td>Patio in  yard</td>\n",
       "    </tr>\n",
       "    <tr>\n",
       "      <th>49</th>\n",
       "      <td>'yardbuildingsqft26'</td>\n",
       "      <td>Storage shed/building in yard</td>\n",
       "    </tr>\n",
       "    <tr>\n",
       "      <th>50</th>\n",
       "      <td>'yearbuilt'</td>\n",
       "      <td>The Year the principal residence was built</td>\n",
       "    </tr>\n",
       "  </tbody>\n",
       "</table>\n",
       "</div>"
      ],
      "text/plain": [
       "                           Feature  \\\n",
       "0          'airconditioningtypeid'   \n",
       "1       'architecturalstyletypeid'   \n",
       "55                'assessmentyear'   \n",
       "2                   'basementsqft'   \n",
       "3                    'bathroomcnt'   \n",
       "4                     'bedroomcnt'   \n",
       "6            'buildingclasstypeid'   \n",
       "5          'buildingqualitytypeid'   \n",
       "7              'calculatedbathnbr'   \n",
       "11  'calculatedfinishedsquarefeet'   \n",
       "39           'censustractandblock'   \n",
       "8                     'decktypeid'   \n",
       "10      'finishedfloor1squarefeet'   \n",
       "13          'finishedsquarefeet12'   \n",
       "14          'finishedsquarefeet13'   \n",
       "15          'finishedsquarefeet15'   \n",
       "16          'finishedsquarefeet50'   \n",
       "12           'finishedsquarefeet6'   \n",
       "17                          'fips'   \n",
       "18                  'fireplacecnt'   \n",
       "19                 'fireplaceflag'   \n",
       "20                   'fullbathcnt'   \n",
       "21                  'garagecarcnt'   \n",
       "22               'garagetotalsqft'   \n",
       "23                'hashottuborspa'   \n",
       "24         'heatingorsystemtypeid'   \n",
       "53         'landtaxvaluedollarcnt'   \n",
       "25                      'latitude'   \n",
       "26                     'longitude'   \n",
       "27             'lotsizesquarefeet'   \n",
       "28               'numberofstories'   \n",
       "29                      'parcelid'   \n",
       "30                       'poolcnt'   \n",
       "31                   'poolsizesum'   \n",
       "32                  'pooltypeid10'   \n",
       "33                   'pooltypeid2'   \n",
       "34                   'pooltypeid7'   \n",
       "35     'propertycountylandusecode'   \n",
       "36         'propertylandusetypeid'   \n",
       "37            'propertyzoningdesc'   \n",
       "38        'rawcensustractandblock'   \n",
       "41                  'regionidcity'   \n",
       "40                'regionidcounty'   \n",
       "43          'regionidneighborhood'   \n",
       "42                   'regionidzip'   \n",
       "44                       'roomcnt'   \n",
       "45                   'storytypeid'   \n",
       "52    'structuretaxvaluedollarcnt'   \n",
       "54                     'taxamount'   \n",
       "56            'taxdelinquencyflag'   \n",
       "57            'taxdelinquencyyear'   \n",
       "51             'taxvaluedollarcnt'   \n",
       "9            'threequarterbathnbr'   \n",
       "46        'typeconstructiontypeid'   \n",
       "47                       'unitcnt'   \n",
       "48            'yardbuildingsqft17'   \n",
       "49            'yardbuildingsqft26'   \n",
       "50                     'yearbuilt'   \n",
       "\n",
       "                                          Description  \n",
       "0    Type of cooling system present in the home (i...  \n",
       "1    Architectural style of the home (i.e. ranch, ...  \n",
       "55           The year of the property tax assessment   \n",
       "2    Finished living area below or partially below...  \n",
       "3    Number of bathrooms in home including fractio...  \n",
       "4                         Number of bedrooms in home   \n",
       "6   The building framing type (steel frame, wood f...  \n",
       "5    Overall assessment of condition of the buildi...  \n",
       "7    Number of bathrooms in home including fractio...  \n",
       "11   Calculated total finished living area of the ...  \n",
       "39   Census tract and block ID combined - also con...  \n",
       "8             Type of deck (if any) present on parcel  \n",
       "10   Size of the finished living area on the first...  \n",
       "13                               Finished living area  \n",
       "14                             Perimeter  living area  \n",
       "15                                         Total area  \n",
       "16   Size of the finished living area on the first...  \n",
       "12                  Base unfinished and finished area  \n",
       "17   Federal Information Processing Standard code ...  \n",
       "18            Number of fireplaces in a home (if any)  \n",
       "19               Is a fireplace present in this home   \n",
       "20   Number of full bathrooms (sink, shower + bath...  \n",
       "21   Total number of garages on the lot including ...  \n",
       "22   Total number of square feet of all garages on...  \n",
       "23                Does the home have a hot tub or spa  \n",
       "24                        Type of home heating system  \n",
       "53  The assessed value of the land area of the parcel  \n",
       "25   Latitude of the middle of the parcel multipli...  \n",
       "26   Longitude of the middle of the parcel multipl...  \n",
       "27                     Area of the lot in square feet  \n",
       "28           Number of stories or levels the home has  \n",
       "29              Unique identifier for parcels (lots)   \n",
       "30                Number of pools on the lot (if any)  \n",
       "31      Total square footage of all pools on property  \n",
       "32                                     Spa or Hot Tub  \n",
       "33                              Pool with Spa/Hot Tub  \n",
       "34                               Pool without hot tub  \n",
       "35   County land use code i.e. it's zoning at the ...  \n",
       "36         Type of land use the property is zoned for  \n",
       "37   Description of the allowed land uses (zoning)...  \n",
       "38   Census tract and block ID combined - also con...  \n",
       "41     City in which the property is located (if any)  \n",
       "40            County in which the property is located  \n",
       "43      Neighborhood in which the property is located  \n",
       "42          Zip code in which the property is located  \n",
       "44   Total number of rooms in the principal residence  \n",
       "45   Type of floors in a multi-story house (i.e. b...  \n",
       "52  The assessed value of the built structure on t...  \n",
       "54  The total property tax assessed for that asses...  \n",
       "56  Property taxes for this parcel are past due as...  \n",
       "57  Year for which the unpaid propert taxes were due   \n",
       "51         The total tax assessed value of the parcel  \n",
       "9    Number of 3/4 bathrooms in house (shower + si...  \n",
       "46   What type of construction material was used t...  \n",
       "47   Number of units the structure is built into (...  \n",
       "48                                     Patio in  yard  \n",
       "49                      Storage shed/building in yard  \n",
       "50        The Year the principal residence was built   "
      ]
     },
     "execution_count": 43,
     "metadata": {},
     "output_type": "execute_result"
    }
   ],
   "source": [
    "data_dict = pd.read_excel('zillow_data_dictionary.xlsx')\n",
    "data_dict.sort_values(by = 'Feature')"
   ]
  },
  {
   "cell_type": "markdown",
   "id": "b3f4ed68",
   "metadata": {},
   "source": [
    "# Acquire\n",
    "Acquire \n",
    "- `bedroomcnt`, \n",
    "- `bathroomcnt`, \n",
    "-`calculatedfinishedsquarefeet`, \n",
    "- `taxvaluedollarcnt`, \n",
    "- `yearbuilt`, \n",
    "- `taxamount`, and \n",
    "- `fips`\n",
    "\n",
    "from the zillow database for all 'Single Family Residential' properties."
   ]
  },
  {
   "cell_type": "markdown",
   "id": "e6592538",
   "metadata": {},
   "source": [
    "### Function to connect to Codeup mysql server"
   ]
  },
  {
   "cell_type": "code",
   "execution_count": 2,
   "id": "45aa44a9",
   "metadata": {},
   "outputs": [],
   "source": [
    "def get_connection(database_name):\n",
    "    '''\n",
    "    This function takes in a database name from the sequel server and returns a string with \n",
    "    the credentials needed to access that server.\n",
    "    '''\n",
    "    return f'mysql+pymysql://{user}:{password}@{host}/{database_name}'"
   ]
  },
  {
   "cell_type": "markdown",
   "id": "ea4b3a9d",
   "metadata": {},
   "source": [
    "### Function to acquire data from server\n",
    "1. created a variable to hold query\n",
    "2. can be updated or modified if want to make changes later"
   ]
  },
  {
   "cell_type": "code",
   "execution_count": 3,
   "id": "506999c9",
   "metadata": {},
   "outputs": [],
   "source": [
    "# 1. query used to acquire data from sql\n",
    "\n",
    "query = '''select bedroomcnt,\n",
    "    bathroomcnt,\n",
    "    calculatedfinishedsquarefeet,\n",
    "    taxvaluedollarcnt,\n",
    "    yearbuilt,\n",
    "    taxamount,\n",
    "    fips\n",
    "    from properties_2017\n",
    "    where propertylandusetypeid = 261;'''"
   ]
  },
  {
   "cell_type": "code",
   "execution_count": 4,
   "id": "2ece7a2c",
   "metadata": {},
   "outputs": [],
   "source": [
    "# 2. function to acquire data (uses the query)\n",
    "\n",
    "def get_zillow_data():\n",
    "    '''\n",
    "    This function reads the zillow database from the Codeup mysql server adn returns a dataframe\n",
    "    If a local csv file does not exist, this function writes the data to a csv file\n",
    "    The local file can be used as a backup in the event that you cannot access the mysql database\n",
    "    '''\n",
    "    \n",
    "    \n",
    "    if os.path.isfile('zillow.csv'):\n",
    "# if a local file already exists\n",
    "        df = pd.read_csv('zillow.csv', index_col = 0)\n",
    "        \n",
    "    else:\n",
    "# if a local file does not yet exist\n",
    "        df = pd.read_sql(query, get_connection('zillow'))\n",
    "\n",
    "# and cache data into csv file\n",
    "        df.to_csv('zillow.csv')\n",
    "    \n",
    "    return df"
   ]
  },
  {
   "cell_type": "markdown",
   "id": "891dfca2",
   "metadata": {},
   "source": [
    "### Taking a look at the data"
   ]
  },
  {
   "cell_type": "code",
   "execution_count": 5,
   "id": "76ff5105",
   "metadata": {},
   "outputs": [
    {
     "name": "stderr",
     "output_type": "stream",
     "text": [
      "/usr/local/anaconda3/lib/python3.8/site-packages/numpy/lib/arraysetops.py:583: FutureWarning: elementwise comparison failed; returning scalar instead, but in the future will perform elementwise comparison\n",
      "  mask |= (ar1 == a)\n"
     ]
    },
    {
     "data": {
      "text/html": [
       "<div>\n",
       "<style scoped>\n",
       "    .dataframe tbody tr th:only-of-type {\n",
       "        vertical-align: middle;\n",
       "    }\n",
       "\n",
       "    .dataframe tbody tr th {\n",
       "        vertical-align: top;\n",
       "    }\n",
       "\n",
       "    .dataframe thead th {\n",
       "        text-align: right;\n",
       "    }\n",
       "</style>\n",
       "<table border=\"1\" class=\"dataframe\">\n",
       "  <thead>\n",
       "    <tr style=\"text-align: right;\">\n",
       "      <th></th>\n",
       "      <th>bedroomcnt</th>\n",
       "      <th>bathroomcnt</th>\n",
       "      <th>calculatedfinishedsquarefeet</th>\n",
       "      <th>taxvaluedollarcnt</th>\n",
       "      <th>yearbuilt</th>\n",
       "      <th>taxamount</th>\n",
       "      <th>fips</th>\n",
       "    </tr>\n",
       "  </thead>\n",
       "  <tbody>\n",
       "    <tr>\n",
       "      <th>0</th>\n",
       "      <td>0.0</td>\n",
       "      <td>0.0</td>\n",
       "      <td>NaN</td>\n",
       "      <td>27516.0</td>\n",
       "      <td>NaN</td>\n",
       "      <td>NaN</td>\n",
       "      <td>6037.0</td>\n",
       "    </tr>\n",
       "    <tr>\n",
       "      <th>1</th>\n",
       "      <td>0.0</td>\n",
       "      <td>0.0</td>\n",
       "      <td>NaN</td>\n",
       "      <td>10.0</td>\n",
       "      <td>NaN</td>\n",
       "      <td>NaN</td>\n",
       "      <td>6037.0</td>\n",
       "    </tr>\n",
       "    <tr>\n",
       "      <th>2</th>\n",
       "      <td>0.0</td>\n",
       "      <td>0.0</td>\n",
       "      <td>NaN</td>\n",
       "      <td>10.0</td>\n",
       "      <td>NaN</td>\n",
       "      <td>NaN</td>\n",
       "      <td>6037.0</td>\n",
       "    </tr>\n",
       "    <tr>\n",
       "      <th>3</th>\n",
       "      <td>0.0</td>\n",
       "      <td>0.0</td>\n",
       "      <td>NaN</td>\n",
       "      <td>2108.0</td>\n",
       "      <td>NaN</td>\n",
       "      <td>174.21</td>\n",
       "      <td>6037.0</td>\n",
       "    </tr>\n",
       "    <tr>\n",
       "      <th>4</th>\n",
       "      <td>4.0</td>\n",
       "      <td>2.0</td>\n",
       "      <td>3633.0</td>\n",
       "      <td>296425.0</td>\n",
       "      <td>2005.0</td>\n",
       "      <td>6941.39</td>\n",
       "      <td>6037.0</td>\n",
       "    </tr>\n",
       "  </tbody>\n",
       "</table>\n",
       "</div>"
      ],
      "text/plain": [
       "   bedroomcnt  bathroomcnt  calculatedfinishedsquarefeet  taxvaluedollarcnt  \\\n",
       "0         0.0          0.0                           NaN            27516.0   \n",
       "1         0.0          0.0                           NaN               10.0   \n",
       "2         0.0          0.0                           NaN               10.0   \n",
       "3         0.0          0.0                           NaN             2108.0   \n",
       "4         4.0          2.0                        3633.0           296425.0   \n",
       "\n",
       "   yearbuilt  taxamount    fips  \n",
       "0        NaN        NaN  6037.0  \n",
       "1        NaN        NaN  6037.0  \n",
       "2        NaN        NaN  6037.0  \n",
       "3        NaN     174.21  6037.0  \n",
       "4     2005.0    6941.39  6037.0  "
      ]
     },
     "execution_count": 5,
     "metadata": {},
     "output_type": "execute_result"
    }
   ],
   "source": [
    "# peak at the data\n",
    "\n",
    "zillow = get_zillow_data()\n",
    "zillow.head()"
   ]
  },
  {
   "cell_type": "markdown",
   "id": "04a730a5",
   "metadata": {},
   "source": [
    "# 2. Summarization and Cleaning"
   ]
  },
  {
   "cell_type": "code",
   "execution_count": 6,
   "id": "87cb24c3",
   "metadata": {},
   "outputs": [
    {
     "name": "stdout",
     "output_type": "stream",
     "text": [
      "Rows: 2152863\n",
      "Columns: 7\n"
     ]
    }
   ],
   "source": [
    "print(f'Rows: {zillow.shape[0]}\\nColumns: {zillow.shape[1]}')"
   ]
  },
  {
   "cell_type": "code",
   "execution_count": 7,
   "id": "ffd185b3",
   "metadata": {},
   "outputs": [
    {
     "data": {
      "text/html": [
       "<div>\n",
       "<style scoped>\n",
       "    .dataframe tbody tr th:only-of-type {\n",
       "        vertical-align: middle;\n",
       "    }\n",
       "\n",
       "    .dataframe tbody tr th {\n",
       "        vertical-align: top;\n",
       "    }\n",
       "\n",
       "    .dataframe thead th {\n",
       "        text-align: right;\n",
       "    }\n",
       "</style>\n",
       "<table border=\"1\" class=\"dataframe\">\n",
       "  <thead>\n",
       "    <tr style=\"text-align: right;\">\n",
       "      <th></th>\n",
       "      <th>count</th>\n",
       "      <th>mean</th>\n",
       "      <th>std</th>\n",
       "      <th>min</th>\n",
       "      <th>25%</th>\n",
       "      <th>50%</th>\n",
       "      <th>75%</th>\n",
       "      <th>max</th>\n",
       "    </tr>\n",
       "  </thead>\n",
       "  <tbody>\n",
       "    <tr>\n",
       "      <th>bedroomcnt</th>\n",
       "      <td>2152852.0</td>\n",
       "      <td>3.287196</td>\n",
       "      <td>0.954754</td>\n",
       "      <td>0.00</td>\n",
       "      <td>3.00</td>\n",
       "      <td>3.00</td>\n",
       "      <td>4.00</td>\n",
       "      <td>25.00</td>\n",
       "    </tr>\n",
       "    <tr>\n",
       "      <th>bathroomcnt</th>\n",
       "      <td>2152852.0</td>\n",
       "      <td>2.230688</td>\n",
       "      <td>0.999280</td>\n",
       "      <td>0.00</td>\n",
       "      <td>2.00</td>\n",
       "      <td>2.00</td>\n",
       "      <td>3.00</td>\n",
       "      <td>32.00</td>\n",
       "    </tr>\n",
       "    <tr>\n",
       "      <th>calculatedfinishedsquarefeet</th>\n",
       "      <td>2144379.0</td>\n",
       "      <td>1862.855178</td>\n",
       "      <td>1222.125124</td>\n",
       "      <td>1.00</td>\n",
       "      <td>1257.00</td>\n",
       "      <td>1623.00</td>\n",
       "      <td>2208.00</td>\n",
       "      <td>952576.00</td>\n",
       "    </tr>\n",
       "    <tr>\n",
       "      <th>taxvaluedollarcnt</th>\n",
       "      <td>2152370.0</td>\n",
       "      <td>461896.237963</td>\n",
       "      <td>699676.049600</td>\n",
       "      <td>1.00</td>\n",
       "      <td>188170.25</td>\n",
       "      <td>327671.00</td>\n",
       "      <td>534527.00</td>\n",
       "      <td>98428909.00</td>\n",
       "    </tr>\n",
       "    <tr>\n",
       "      <th>yearbuilt</th>\n",
       "      <td>2143526.0</td>\n",
       "      <td>1960.949681</td>\n",
       "      <td>22.162196</td>\n",
       "      <td>1801.00</td>\n",
       "      <td>1949.00</td>\n",
       "      <td>1958.00</td>\n",
       "      <td>1976.00</td>\n",
       "      <td>2016.00</td>\n",
       "    </tr>\n",
       "    <tr>\n",
       "      <th>taxamount</th>\n",
       "      <td>2148421.0</td>\n",
       "      <td>5634.865978</td>\n",
       "      <td>8178.910249</td>\n",
       "      <td>1.85</td>\n",
       "      <td>2534.98</td>\n",
       "      <td>4108.95</td>\n",
       "      <td>6414.32</td>\n",
       "      <td>1337755.86</td>\n",
       "    </tr>\n",
       "    <tr>\n",
       "      <th>fips</th>\n",
       "      <td>2152863.0</td>\n",
       "      <td>6048.377335</td>\n",
       "      <td>20.433292</td>\n",
       "      <td>6037.00</td>\n",
       "      <td>6037.00</td>\n",
       "      <td>6037.00</td>\n",
       "      <td>6059.00</td>\n",
       "      <td>6111.00</td>\n",
       "    </tr>\n",
       "  </tbody>\n",
       "</table>\n",
       "</div>"
      ],
      "text/plain": [
       "                                  count           mean            std  \\\n",
       "bedroomcnt                    2152852.0       3.287196       0.954754   \n",
       "bathroomcnt                   2152852.0       2.230688       0.999280   \n",
       "calculatedfinishedsquarefeet  2144379.0    1862.855178    1222.125124   \n",
       "taxvaluedollarcnt             2152370.0  461896.237963  699676.049600   \n",
       "yearbuilt                     2143526.0    1960.949681      22.162196   \n",
       "taxamount                     2148421.0    5634.865978    8178.910249   \n",
       "fips                          2152863.0    6048.377335      20.433292   \n",
       "\n",
       "                                  min        25%        50%        75%  \\\n",
       "bedroomcnt                       0.00       3.00       3.00       4.00   \n",
       "bathroomcnt                      0.00       2.00       2.00       3.00   \n",
       "calculatedfinishedsquarefeet     1.00    1257.00    1623.00    2208.00   \n",
       "taxvaluedollarcnt                1.00  188170.25  327671.00  534527.00   \n",
       "yearbuilt                     1801.00    1949.00    1958.00    1976.00   \n",
       "taxamount                        1.85    2534.98    4108.95    6414.32   \n",
       "fips                          6037.00    6037.00    6037.00    6059.00   \n",
       "\n",
       "                                      max  \n",
       "bedroomcnt                          25.00  \n",
       "bathroomcnt                         32.00  \n",
       "calculatedfinishedsquarefeet    952576.00  \n",
       "taxvaluedollarcnt             98428909.00  \n",
       "yearbuilt                         2016.00  \n",
       "taxamount                      1337755.86  \n",
       "fips                              6111.00  "
      ]
     },
     "execution_count": 7,
     "metadata": {},
     "output_type": "execute_result"
    }
   ],
   "source": [
    "zillow.describe().T"
   ]
  },
  {
   "cell_type": "markdown",
   "id": "2eb10886",
   "metadata": {},
   "source": [
    "### Handling our null values"
   ]
  },
  {
   "cell_type": "code",
   "execution_count": 8,
   "id": "8f876334",
   "metadata": {},
   "outputs": [
    {
     "name": "stdout",
     "output_type": "stream",
     "text": [
      "<class 'pandas.core.frame.DataFrame'>\n",
      "Int64Index: 2152863 entries, 0 to 2152862\n",
      "Data columns (total 7 columns):\n",
      " #   Column                        Non-Null Count    Dtype  \n",
      "---  ------                        --------------    -----  \n",
      " 0   bedroomcnt                    2152852 non-null  float64\n",
      " 1   bathroomcnt                   2152852 non-null  float64\n",
      " 2   calculatedfinishedsquarefeet  2144379 non-null  float64\n",
      " 3   taxvaluedollarcnt             2152370 non-null  float64\n",
      " 4   yearbuilt                     2143526 non-null  float64\n",
      " 5   taxamount                     2148421 non-null  float64\n",
      " 6   fips                          2152863 non-null  float64\n",
      "dtypes: float64(7)\n",
      "memory usage: 131.4 MB\n"
     ]
    }
   ],
   "source": [
    "zillow.info(show_counts = True)"
   ]
  },
  {
   "cell_type": "code",
   "execution_count": 9,
   "id": "32aac92e",
   "metadata": {
    "scrolled": true
   },
   "outputs": [
    {
     "name": "stdout",
     "output_type": "stream",
     "text": [
      "bedroomcnt                      0.000005\n",
      "bathroomcnt                     0.000005\n",
      "calculatedfinishedsquarefeet    0.003941\n",
      "taxvaluedollarcnt               0.000229\n",
      "yearbuilt                       0.004337\n",
      "taxamount                       0.002063\n",
      "fips                            0.000000\n",
      "dtype: float64\n"
     ]
    }
   ],
   "source": [
    "# percentage of null values in each column to total values\n",
    "\n",
    "print(f'{(zillow.isnull().sum()) / (zillow.shape[0])}')\n"
   ]
  },
  {
   "cell_type": "markdown",
   "id": "3274f125",
   "metadata": {},
   "source": [
    "### ----> commented out: \n",
    "- We have such a small percentage of nulls compared to total that we can drop those rows"
   ]
  },
  {
   "cell_type": "code",
   "execution_count": 10,
   "id": "fe7c8b8b",
   "metadata": {},
   "outputs": [],
   "source": [
    "# # dropping null rows\n",
    "\n",
    "# zillow.dropna(inplace = True)"
   ]
  },
  {
   "cell_type": "code",
   "execution_count": 11,
   "id": "bf75cf9f",
   "metadata": {},
   "outputs": [
    {
     "data": {
      "text/plain": [
       "bedroomcnt                        11\n",
       "bathroomcnt                       11\n",
       "calculatedfinishedsquarefeet    8484\n",
       "taxvaluedollarcnt                493\n",
       "yearbuilt                       9337\n",
       "taxamount                       4442\n",
       "fips                               0\n",
       "dtype: int64"
      ]
     },
     "execution_count": 11,
     "metadata": {},
     "output_type": "execute_result"
    }
   ],
   "source": [
    "# confirming no null values in df\n",
    "\n",
    "zillow.isna().sum()"
   ]
  },
  {
   "cell_type": "markdown",
   "id": "18f8d181",
   "metadata": {},
   "source": [
    "### Cleaning up our column names and data types"
   ]
  },
  {
   "cell_type": "code",
   "execution_count": 12,
   "id": "2e4e82a1",
   "metadata": {
    "scrolled": false
   },
   "outputs": [
    {
     "name": "stdout",
     "output_type": "stream",
     "text": [
      "bedroomcnt\n",
      "3.0     964298\n",
      "4.0     634289\n",
      "2.0     335473\n",
      "5.0     150866\n",
      "6.0      25166\n",
      "1.0      23166\n",
      "0.0      13187\n",
      "7.0       4807\n",
      "8.0       1107\n",
      "9.0        291\n",
      "10.0       121\n",
      "11.0        34\n",
      "13.0        16\n",
      "12.0        12\n",
      "14.0         7\n",
      "15.0         6\n",
      "18.0         3\n",
      "16.0         2\n",
      "25.0         1\n",
      "Name: bedroomcnt, dtype: int64\n",
      "------------------------\n",
      "\n",
      "bathroomcnt\n",
      "2.00     943589\n",
      "3.00     422841\n",
      "1.00     414324\n",
      "2.50     142981\n",
      "4.00      82155\n",
      "1.50      31211\n",
      "3.50      28518\n",
      "5.00      28362\n",
      "4.50      19506\n",
      "0.00      13027\n",
      "6.00      10747\n",
      "5.50       6217\n",
      "7.00       4394\n",
      "8.00       1692\n",
      "6.50       1333\n",
      "9.00        713\n",
      "7.50        384\n",
      "10.00       325\n",
      "11.00       146\n",
      "8.50        110\n",
      "12.00        73\n",
      "9.50         50\n",
      "13.00        39\n",
      "14.00        25\n",
      "15.00        17\n",
      "0.50         16\n",
      "10.50        14\n",
      "16.00        12\n",
      "18.00         8\n",
      "20.00         6\n",
      "17.00         4\n",
      "1.75          3\n",
      "12.50         3\n",
      "11.50         3\n",
      "14.50         1\n",
      "32.00         1\n",
      "19.50         1\n",
      "19.00         1\n",
      "Name: bathroomcnt, dtype: int64\n",
      "------------------------\n",
      "\n",
      "calculatedfinishedsquarefeet\n",
      "1200.0     5195\n",
      "1080.0     4389\n",
      "1120.0     4362\n",
      "1400.0     3833\n",
      "1440.0     3690\n",
      "           ... \n",
      "10688.0       1\n",
      "8219.0        1\n",
      "17214.0       1\n",
      "11003.0       1\n",
      "7633.0        1\n",
      "Name: calculatedfinishedsquarefeet, Length: 10580, dtype: int64\n",
      "------------------------\n",
      "\n",
      "taxvaluedollarcnt\n",
      "450000.0     821\n",
      "500000.0     779\n",
      "400000.0     729\n",
      "430000.0     690\n",
      "440000.0     685\n",
      "            ... \n",
      "319040.0       1\n",
      "403636.0       1\n",
      "475796.0       1\n",
      "795258.0       1\n",
      "1436013.0      1\n",
      "Name: taxvaluedollarcnt, Length: 592269, dtype: int64\n",
      "------------------------\n",
      "\n",
      "yearbuilt\n",
      "1955.0    84405\n",
      "1950.0    71693\n",
      "1954.0    69163\n",
      "1953.0    62342\n",
      "1956.0    61942\n",
      "          ...  \n",
      "1879.0        1\n",
      "1877.0        1\n",
      "1855.0        1\n",
      "1874.0        1\n",
      "1823.0        1\n",
      "Name: yearbuilt, Length: 153, dtype: int64\n",
      "------------------------\n",
      "\n",
      "taxamount\n",
      "345.72      172\n",
      "344.18       77\n",
      "343.52       75\n",
      "285.30       67\n",
      "49.18        46\n",
      "           ... \n",
      "13621.86      1\n",
      "13227.99      1\n",
      "5371.63       1\n",
      "9052.96       1\n",
      "19517.64      1\n",
      "Name: taxamount, Length: 918838, dtype: int64\n",
      "------------------------\n",
      "\n",
      "fips\n",
      "6037.0    1431811\n",
      "6059.0     555077\n",
      "6111.0     165975\n",
      "Name: fips, dtype: int64\n",
      "------------------------\n",
      "\n"
     ]
    }
   ],
   "source": [
    "# looking at the values for each column and creating a cols list\n",
    "cols = []\n",
    "\n",
    "for col in zillow.columns:\n",
    "    cols.append(col)\n",
    "    print(col)\n",
    "    print(zillow[col].value_counts())\n",
    "    print('------------------------')\n",
    "    print()"
   ]
  },
  {
   "cell_type": "code",
   "execution_count": 13,
   "id": "0ca88a8d",
   "metadata": {},
   "outputs": [
    {
     "data": {
      "text/plain": [
       "['bedroomcnt',\n",
       " 'bathroomcnt',\n",
       " 'calculatedfinishedsquarefeet',\n",
       " 'taxvaluedollarcnt',\n",
       " 'yearbuilt',\n",
       " 'taxamount',\n",
       " 'fips']"
      ]
     },
     "execution_count": 13,
     "metadata": {},
     "output_type": "execute_result"
    }
   ],
   "source": [
    "cols"
   ]
  },
  {
   "cell_type": "code",
   "execution_count": 14,
   "id": "a8cd46bd",
   "metadata": {},
   "outputs": [],
   "source": [
    "# renaming columns\n",
    "\n",
    "zillow.rename(columns = {'bedroomcnt': 'bedrooms',\n",
    "                         'bathroomcnt': 'bathrooms',\n",
    "                         'calculatedfinishedsquarefeet': 'sqft',\n",
    "                         'taxvaluedollarcnt': 'tax_value',\n",
    "                         'yearbuilt': 'year_built',\n",
    "                         'taxamount': 'tax_amt',\n",
    "                         'fips': 'fips'}, inplace = True)"
   ]
  },
  {
   "cell_type": "code",
   "execution_count": 15,
   "id": "735ca028",
   "metadata": {
    "scrolled": true
   },
   "outputs": [
    {
     "name": "stdout",
     "output_type": "stream",
     "text": [
      "All columns: ['bedrooms', 'bathrooms', 'sqft', 'tax_value', 'year_built', 'tax_amt', 'fips']\n",
      "\n",
      "Float columns: ['bathrooms', 'sqft', 'tax_value', 'tax_amt']\n",
      "Integer columns: ['bedrooms', 'year_built', 'fips']\n"
     ]
    }
   ],
   "source": [
    "# preparing for loop that converts floats ------> to integers by creating 2 lists from columns\n",
    "cols = zillow.columns\n",
    "cols = cols.to_list()\n",
    "print(f'All columns: {cols}\\n')\n",
    "\n",
    "flt_cols = ['bathrooms', 'sqft', 'tax_value', 'tax_amt']\n",
    "int_cols = ['bedrooms', 'year_built', 'fips']\n",
    "print(f'Float columns: {flt_cols}')\n",
    "print(f'Integer columns: {int_cols}')"
   ]
  },
  {
   "cell_type": "markdown",
   "id": "b5a1466e",
   "metadata": {},
   "source": [
    "### Conversion to integer commented out for now because of nulls"
   ]
  },
  {
   "cell_type": "code",
   "execution_count": 16,
   "id": "ec0109f8",
   "metadata": {
    "scrolled": false
   },
   "outputs": [],
   "source": [
    "# # for loop to convert floats to -----> int\n",
    "\n",
    "# for col in int_cols:\n",
    "#     zillow[col] = zillow[col].astype(int)"
   ]
  },
  {
   "cell_type": "code",
   "execution_count": 17,
   "id": "ec8a35fa",
   "metadata": {},
   "outputs": [
    {
     "data": {
      "text/plain": [
       "bedrooms      float64\n",
       "bathrooms     float64\n",
       "sqft          float64\n",
       "tax_value     float64\n",
       "year_built    float64\n",
       "tax_amt       float64\n",
       "fips          float64\n",
       "dtype: object"
      ]
     },
     "execution_count": 17,
     "metadata": {},
     "output_type": "execute_result"
    }
   ],
   "source": [
    "# confirming our dtypes have been updated\n",
    "\n",
    "zillow.dtypes"
   ]
  },
  {
   "cell_type": "markdown",
   "id": "ff1ad1ca",
   "metadata": {},
   "source": [
    "https://github.com/CodeupClassroom/germain-regression-exercises/blob/main/wrangle_exercise_review.ipynb\n",
    "<br><i>referenced for loop from Germain regression wrange_exercises_review.ipynb solutions</i>"
   ]
  },
  {
   "cell_type": "code",
   "execution_count": 18,
   "id": "afb73010",
   "metadata": {},
   "outputs": [
    {
     "data": {
      "text/plain": [
       "['bedrooms', 'bathrooms', 'sqft', 'tax_value', 'year_built', 'tax_amt', 'fips']"
      ]
     },
     "execution_count": 18,
     "metadata": {},
     "output_type": "execute_result"
    }
   ],
   "source": [
    "cols"
   ]
  },
  {
   "cell_type": "code",
   "execution_count": 19,
   "id": "ff613d94",
   "metadata": {},
   "outputs": [
    {
     "data": {
      "image/png": "[encoded data removed]",
      "text/plain": [
       "<Figure size 1152x216 with 5 Axes>"
      ]
     },
     "metadata": {
      "needs_background": "light"
     },
     "output_type": "display_data"
    }
   ],
   "source": [
    "# variable distributions\n",
    "\n",
    "plt.figure(figsize = (16, 3))\n",
    "\n",
    "# list of columns\n",
    "cols = [col for col in zillow.columns if col not in ['fips', 'year_built']]\n",
    "\n",
    "for i, col in enumerate(cols):\n",
    "    # i starts at 0, but I want the plot number to start at 1 ---> adding 1\n",
    "    plot_number = i + 1\n",
    "\n",
    "    # create subplots    \n",
    "    plt.subplot(1, len(cols), plot_number)\n",
    "    \n",
    "    # title with column name\n",
    "    plt.title(col)\n",
    "    \n",
    "    # creating histogram columns\n",
    "    zillow[col].hist(bins = 5)\n",
    "\n",
    "    # hiding gridlines\n",
    "    plt.grid(False)\n",
    "\n",
    "plt.show()"
   ]
  },
  {
   "cell_type": "code",
   "execution_count": 20,
   "id": "afe3b24a",
   "metadata": {},
   "outputs": [
    {
     "data": {
      "image/png": "[encoded data removed]",
      "text/plain": [
       "<Figure size 576x288 with 1 Axes>"
      ]
     },
     "metadata": {
      "needs_background": "light"
     },
     "output_type": "display_data"
    }
   ],
   "source": [
    "# boxplots\n",
    "plt.figure(figsize = (8, 4))\n",
    "\n",
    "plt.ticklabel_format(useOffset = False, style = 'plain')\n",
    "sns.boxplot(data = zillow.drop(columns = ['fips']))\n",
    "\n",
    "plt.show()"
   ]
  },
  {
   "cell_type": "code",
   "execution_count": null,
   "id": "07713fca",
   "metadata": {},
   "outputs": [],
   "source": []
  },
  {
   "cell_type": "markdown",
   "id": "54a33d9d",
   "metadata": {},
   "source": [
    "### There are a lot of outliers in the dataset that need to be removed prior to exploration\n",
    "- We can use the iqr rule to remove outliers"
   ]
  },
  {
   "cell_type": "code",
   "execution_count": 21,
   "id": "74193073",
   "metadata": {},
   "outputs": [],
   "source": [
    "zil_cols = zillow.columns.to_list()"
   ]
  },
  {
   "cell_type": "code",
   "execution_count": 22,
   "id": "7607f22b",
   "metadata": {},
   "outputs": [],
   "source": [
    "# function to remove outliers\n",
    "def remove_outliers(df, k, cols):\n",
    "    '''\n",
    "    This function uses the iqr rule to remove outliers from a list of columns in a DataFrame.\n",
    "       - Args:\n",
    "            - df: DataFrame\n",
    "            - k: upper and lower bound +/- value\n",
    "            - cols: DataFrame columns (want outliers removed from)\n",
    "        - Returns:\n",
    "            - DataFrame with outliers removed from chosen columns\n",
    "    '''\n",
    "    \n",
    "    for col in cols:\n",
    "        \n",
    "    #     get quartiles\n",
    "        q1, q3 = df[col].quantile([.25, .75])\n",
    "\n",
    "    #     calculate interquartile range (iqr range)\n",
    "        iqr = q3 - q1\n",
    "\n",
    "    #     get upper and lower bounds\n",
    "        upper_bound = q3 + k * iqr\n",
    "        lower_bound = q1 - k * iqr\n",
    "\n",
    "    #     return dataframe without outliers\n",
    "        df = df[(df[col] > lower_bound) & (df[col] < upper_bound)]\n",
    "    \n",
    "    return df"
   ]
  },
  {
   "cell_type": "code",
   "execution_count": 23,
   "id": "0474b184",
   "metadata": {},
   "outputs": [
    {
     "data": {
      "text/html": [
       "<div>\n",
       "<style scoped>\n",
       "    .dataframe tbody tr th:only-of-type {\n",
       "        vertical-align: middle;\n",
       "    }\n",
       "\n",
       "    .dataframe tbody tr th {\n",
       "        vertical-align: top;\n",
       "    }\n",
       "\n",
       "    .dataframe thead th {\n",
       "        text-align: right;\n",
       "    }\n",
       "</style>\n",
       "<table border=\"1\" class=\"dataframe\">\n",
       "  <thead>\n",
       "    <tr style=\"text-align: right;\">\n",
       "      <th></th>\n",
       "      <th>bedrooms</th>\n",
       "      <th>bathrooms</th>\n",
       "      <th>sqft</th>\n",
       "      <th>tax_value</th>\n",
       "      <th>year_built</th>\n",
       "      <th>tax_amt</th>\n",
       "      <th>fips</th>\n",
       "    </tr>\n",
       "  </thead>\n",
       "  <tbody>\n",
       "    <tr>\n",
       "      <th>6</th>\n",
       "      <td>3.0</td>\n",
       "      <td>4.0</td>\n",
       "      <td>1620.0</td>\n",
       "      <td>847770.0</td>\n",
       "      <td>2011.0</td>\n",
       "      <td>10244.94</td>\n",
       "      <td>6037.0</td>\n",
       "    </tr>\n",
       "    <tr>\n",
       "      <th>7</th>\n",
       "      <td>3.0</td>\n",
       "      <td>2.0</td>\n",
       "      <td>2077.0</td>\n",
       "      <td>646760.0</td>\n",
       "      <td>1926.0</td>\n",
       "      <td>7924.68</td>\n",
       "      <td>6037.0</td>\n",
       "    </tr>\n",
       "    <tr>\n",
       "      <th>18</th>\n",
       "      <td>3.0</td>\n",
       "      <td>1.0</td>\n",
       "      <td>1244.0</td>\n",
       "      <td>169471.0</td>\n",
       "      <td>1950.0</td>\n",
       "      <td>2532.88</td>\n",
       "      <td>6037.0</td>\n",
       "    </tr>\n",
       "    <tr>\n",
       "      <th>19</th>\n",
       "      <td>3.0</td>\n",
       "      <td>2.0</td>\n",
       "      <td>1300.0</td>\n",
       "      <td>233266.0</td>\n",
       "      <td>1950.0</td>\n",
       "      <td>3110.99</td>\n",
       "      <td>6037.0</td>\n",
       "    </tr>\n",
       "    <tr>\n",
       "      <th>20</th>\n",
       "      <td>3.0</td>\n",
       "      <td>2.0</td>\n",
       "      <td>1222.0</td>\n",
       "      <td>290492.0</td>\n",
       "      <td>1951.0</td>\n",
       "      <td>3870.25</td>\n",
       "      <td>6037.0</td>\n",
       "    </tr>\n",
       "  </tbody>\n",
       "</table>\n",
       "</div>"
      ],
      "text/plain": [
       "    bedrooms  bathrooms    sqft  tax_value  year_built   tax_amt    fips\n",
       "6        3.0        4.0  1620.0   847770.0      2011.0  10244.94  6037.0\n",
       "7        3.0        2.0  2077.0   646760.0      1926.0   7924.68  6037.0\n",
       "18       3.0        1.0  1244.0   169471.0      1950.0   2532.88  6037.0\n",
       "19       3.0        2.0  1300.0   233266.0      1950.0   3110.99  6037.0\n",
       "20       3.0        2.0  1222.0   290492.0      1951.0   3870.25  6037.0"
      ]
     },
     "execution_count": 23,
     "metadata": {},
     "output_type": "execute_result"
    }
   ],
   "source": [
    "zillow_no_outliers = remove_outliers(zillow, 1.5, cols)\n",
    "zillow_no_outliers.head()"
   ]
  },
  {
   "cell_type": "markdown",
   "id": "fcf49543",
   "metadata": {},
   "source": [
    "### Taking a look at the distribution"
   ]
  },
  {
   "cell_type": "code",
   "execution_count": 24,
   "id": "87c45e72",
   "metadata": {},
   "outputs": [
    {
     "name": "stdout",
     "output_type": "stream",
     "text": [
      "zil_cols: ['bedrooms', 'bathrooms', 'sqft', 'tax_value', 'year_built', 'tax_amt', 'fips']\n",
      "\n",
      "cols: ['bedrooms', 'bathrooms', 'sqft', 'tax_value', 'tax_amt']\n"
     ]
    }
   ],
   "source": [
    "print(f'zil_cols: {zil_cols}')\n",
    "print()\n",
    "print(f'cols: {cols}')"
   ]
  },
  {
   "cell_type": "code",
   "execution_count": 25,
   "id": "361a44a7",
   "metadata": {},
   "outputs": [
    {
     "data": {
      "image/png": "[encoded data removed]",
      "text/plain": [
       "<Figure size 1152x216 with 5 Axes>"
      ]
     },
     "metadata": {
      "needs_background": "light"
     },
     "output_type": "display_data"
    }
   ],
   "source": [
    "# histograms\n",
    "plt.figure(figsize = (16, 3))\n",
    "\n",
    "for i, col in enumerate(cols):\n",
    "    \n",
    "#     i starts at 0, but plot numbers should start at 1\n",
    "    plot_number = i + 1\n",
    "    \n",
    "#     create subplot\n",
    "    plt.subplot(1, len(cols), plot_number)\n",
    "    \n",
    "#     title as column name\n",
    "    plt.title(col)\n",
    "    \n",
    "#     display histograms from each column\n",
    "    zillow_no_outliers[col].hist(bins = 5)\n",
    "    \n",
    "#     hide gridlines\n",
    "    plt.grid(False)\n",
    "    \n",
    "#     add padding to prevent plot overlap\n",
    "    plt.tight_layout()"
   ]
  },
  {
   "cell_type": "code",
   "execution_count": 26,
   "id": "cd1cbe38",
   "metadata": {},
   "outputs": [
    {
     "data": {
      "image/png": "[encoded data removed]",
      "text/plain": [
       "<Figure size 1152x216 with 5 Axes>"
      ]
     },
     "metadata": {
      "needs_background": "light"
     },
     "output_type": "display_data"
    }
   ],
   "source": [
    "# boxplots\n",
    "plt.figure(figsize = (16, 3))\n",
    "\n",
    "for i, col in enumerate(cols):\n",
    "#     i starts at 0, but plot should start at 1\n",
    "    plot_number = i + 1\n",
    "    \n",
    "#     create subplot\n",
    "    plt.subplot(1, len(cols), plot_number)\n",
    "    \n",
    "#     title with column names\n",
    "    plt.title(col)\n",
    "    \n",
    "#     display boxplots for column\n",
    "    sns.boxplot(data = zillow_no_outliers[[col]])\n",
    "    \n",
    "    "
   ]
  },
  {
   "cell_type": "markdown",
   "id": "edc78468",
   "metadata": {},
   "source": [
    "### Summary Takeaways:\n",
    ">`bedrooms` and `bathrooms` are not normally distributed"
   ]
  },
  {
   "cell_type": "markdown",
   "id": "d953aa4e",
   "metadata": {},
   "source": [
    "# Prepare\n",
    "- Are there any null values?"
   ]
  },
  {
   "cell_type": "code",
   "execution_count": 28,
   "id": "0a0876ec",
   "metadata": {},
   "outputs": [
    {
     "data": {
      "text/plain": [
       "bedrooms        0\n",
       "bathrooms       0\n",
       "sqft            0\n",
       "tax_value       0\n",
       "year_built    874\n",
       "tax_amt         0\n",
       "fips            0\n",
       "dtype: int64"
      ]
     },
     "execution_count": 28,
     "metadata": {},
     "output_type": "execute_result"
    }
   ],
   "source": [
    "zillow_no_outliers.isna().sum()"
   ]
  },
  {
   "cell_type": "markdown",
   "id": "0f8d3be2",
   "metadata": {},
   "source": [
    "### Imputing year_built"
   ]
  },
  {
   "cell_type": "code",
   "execution_count": 30,
   "id": "ba171c34",
   "metadata": {},
   "outputs": [
    {
     "data": {
      "text/plain": [
       "1955.0    80451\n",
       "1950.0    66876\n",
       "1954.0    65523\n",
       "1953.0    58746\n",
       "1956.0    58054\n",
       "          ...  \n",
       "1855.0        1\n",
       "1874.0        1\n",
       "1807.0        1\n",
       "1833.0        1\n",
       "1823.0        1\n",
       "Name: year_built, Length: 152, dtype: int64"
      ]
     },
     "execution_count": 30,
     "metadata": {},
     "output_type": "execute_result"
    }
   ],
   "source": [
    "zillow_no_outliers.year_built.value_counts()"
   ]
  },
  {
   "cell_type": "markdown",
   "id": "aa9824c0",
   "metadata": {},
   "source": [
    "##### Because of the small number of missing values, will impute year_build after split"
   ]
  },
  {
   "cell_type": "markdown",
   "id": "5f7c9b75",
   "metadata": {},
   "source": [
    "### Looking at the data types"
   ]
  },
  {
   "cell_type": "code",
   "execution_count": 31,
   "id": "8ace6591",
   "metadata": {},
   "outputs": [
    {
     "name": "stdout",
     "output_type": "stream",
     "text": [
      "<class 'pandas.core.frame.DataFrame'>\n",
      "Int64Index: 1855285 entries, 6 to 2152862\n",
      "Data columns (total 7 columns):\n",
      " #   Column      Dtype  \n",
      "---  ------      -----  \n",
      " 0   bedrooms    float64\n",
      " 1   bathrooms   float64\n",
      " 2   sqft        float64\n",
      " 3   tax_value   float64\n",
      " 4   year_built  float64\n",
      " 5   tax_amt     float64\n",
      " 6   fips        float64\n",
      "dtypes: float64(7)\n",
      "memory usage: 113.2 MB\n"
     ]
    }
   ],
   "source": [
    "zillow_no_outliers.info()"
   ]
  },
  {
   "cell_type": "code",
   "execution_count": 32,
   "id": "40aea22f",
   "metadata": {},
   "outputs": [
    {
     "name": "stdout",
     "output_type": "stream",
     "text": [
      "BEDROOMS\n",
      "3.0    905249\n",
      "4.0    539886\n",
      "2.0    320685\n",
      "5.0     89465\n",
      "Name: bedrooms, dtype: int64\n",
      "--------------------\n",
      "\n",
      "BATHROOMS\n",
      "2.00    909673\n",
      "1.00    385962\n",
      "3.00    352086\n",
      "2.50    132451\n",
      "4.00     31976\n",
      "1.50     30752\n",
      "3.50     12382\n",
      "1.75         3\n",
      "Name: bathrooms, dtype: int64\n",
      "--------------------\n",
      "\n",
      "SQFT\n",
      "1200.0    5091\n",
      "1080.0    4318\n",
      "1120.0    4287\n",
      "1400.0    3776\n",
      "1440.0    3618\n",
      "          ... \n",
      "404.0        1\n",
      "430.0        1\n",
      "471.0        1\n",
      "317.0        1\n",
      "462.0        1\n",
      "Name: sqft, Length: 3015, dtype: int64\n",
      "--------------------\n",
      "\n",
      "TAX_VALUE\n",
      "450000.0    806\n",
      "500000.0    754\n",
      "400000.0    701\n",
      "430000.0    677\n",
      "475000.0    671\n",
      "           ... \n",
      "877774.0      1\n",
      "172618.0      1\n",
      "581746.0      1\n",
      "205760.0      1\n",
      "366635.0      1\n",
      "Name: tax_value, Length: 457592, dtype: int64\n",
      "--------------------\n",
      "\n",
      "YEAR_BUILT\n",
      "1955.0    80451\n",
      "1950.0    66876\n",
      "1954.0    65523\n",
      "1953.0    58746\n",
      "1956.0    58054\n",
      "          ...  \n",
      "1855.0        1\n",
      "1874.0        1\n",
      "1807.0        1\n",
      "1833.0        1\n",
      "1823.0        1\n",
      "Name: year_built, Length: 152, dtype: int64\n",
      "--------------------\n",
      "\n",
      "TAX_AMT\n",
      "345.72     164\n",
      "344.18      71\n",
      "343.52      65\n",
      "49.18       45\n",
      "388.18      36\n",
      "          ... \n",
      "481.90       1\n",
      "7149.75      1\n",
      "4100.14      1\n",
      "1316.23      1\n",
      "1451.43      1\n",
      "Name: tax_amt, Length: 710276, dtype: int64\n",
      "--------------------\n",
      "\n",
      "FIPS\n",
      "6037.0    1241655\n",
      "6059.0     468335\n",
      "6111.0     145295\n",
      "Name: fips, dtype: int64\n",
      "--------------------\n",
      "\n"
     ]
    }
   ],
   "source": [
    "# looking at the values to determine which, if any, should be converted from float to int\n",
    "for col in zillow_no_outliers.columns:\n",
    "    print(col.upper())\n",
    "    print(zillow_no_outliers[col].value_counts())\n",
    "    print('--------------------')\n",
    "    print()"
   ]
  },
  {
   "cell_type": "markdown",
   "id": "73b192a3",
   "metadata": {},
   "source": [
    "### will cast fips and year_built as objects bc they are currently numerical representations of categorical values"
   ]
  },
  {
   "cell_type": "code",
   "execution_count": 34,
   "id": "a9d439b1",
   "metadata": {},
   "outputs": [],
   "source": [
    "zillow_no_outliers.fips = zillow_no_outliers.fips.astype(object)\n",
    "zillow_no_outliers.year_built = zillow_no_outliers.year_built.astype(object)"
   ]
  },
  {
   "cell_type": "code",
   "execution_count": 35,
   "id": "8b0a751b",
   "metadata": {},
   "outputs": [
    {
     "name": "stdout",
     "output_type": "stream",
     "text": [
      "<class 'pandas.core.frame.DataFrame'>\n",
      "Int64Index: 1855285 entries, 6 to 2152862\n",
      "Data columns (total 7 columns):\n",
      " #   Column      Dtype  \n",
      "---  ------      -----  \n",
      " 0   bedrooms    float64\n",
      " 1   bathrooms   float64\n",
      " 2   sqft        float64\n",
      " 3   tax_value   float64\n",
      " 4   year_built  object \n",
      " 5   tax_amt     float64\n",
      " 6   fips        object \n",
      "dtypes: float64(5), object(2)\n",
      "memory usage: 113.2+ MB\n"
     ]
    }
   ],
   "source": [
    "zillow_no_outliers.info()"
   ]
  },
  {
   "cell_type": "markdown",
   "id": "0a3e6036",
   "metadata": {},
   "source": [
    "## Do my columns contain a target leak?\n",
    ">Model Goal:<br>\n",
    "build a ML model that can predict a property's value<br>\n",
    "\n",
    "`tax_amt` is determined by a real estate tax appraiser's valuation of the home, combined with the local tax rate<br>\n",
    "\n",
    "### Target Leak:\n",
    ">Does this indirectly represent the target variable?<br>\n",
    "Does this represent information that we wouldn't have at the time we use our model to predictions on new data?\n",
    "\n",
    "\n",
    "Reasons a tax appraiser's value may deviate from from the sale price of a property:\n",
    "- inversely related incentives (incentive to reduce `tax appraised value` but to increase `sale price property value`)\n",
    "- Counties may limit `tax appraised value` increase to a set amt, causing them to lag behind `home values` in a hot market\n",
    "- local tax appraisers evaluate homes based on evaluation criteria that can differ from county to county or year to year based on political and administrative pressures\n",
    "\n",
    "#### For now we will leave `tax_amt` in the data set as it is not clear that it indirectly represents the target variable. "
   ]
  },
  {
   "cell_type": "markdown",
   "id": "a31d7156",
   "metadata": {},
   "source": [
    "# Split the Data"
   ]
  },
  {
   "cell_type": "code",
   "execution_count": 46,
   "id": "5946d83b",
   "metadata": {},
   "outputs": [],
   "source": [
    "train_validate, test = train_test_split(zillow_no_outliers, test_size = .2, random_state = 123)\n",
    "train, validate = train_test_split(train_validate, test_size = .3, random_state = 123)"
   ]
  },
  {
   "cell_type": "markdown",
   "id": "4448d089",
   "metadata": {},
   "source": [
    "# Impute missing year_build values with mode"
   ]
  },
  {
   "cell_type": "code",
   "execution_count": 48,
   "id": "c26247c2",
   "metadata": {},
   "outputs": [],
   "source": [
    "# build imputer\n",
    "imputer = SimpleImputer(strategy = 'median')\n",
    "\n",
    "# fit to train\n",
    "imputer.fit(train[['year_built']])\n",
    "\n",
    "# transform the data using imputed values\n",
    "train[['year_built']] = imputer.transform(train[['year_built']])\n",
    "validate[['year_built']] = imputer.transform(validate[['year_built']])\n",
    "test[['year_built']] = imputer.transform(test[['year_built']])"
   ]
  },
  {
   "cell_type": "code",
   "execution_count": 57,
   "id": "3b336d3d",
   "metadata": {},
   "outputs": [
    {
     "name": "stdout",
     "output_type": "stream",
     "text": [
      "bedrooms      0\n",
      "bathrooms     0\n",
      "sqft          0\n",
      "tax_value     0\n",
      "year_built    0\n",
      "tax_amt       0\n",
      "fips          0\n",
      "dtype: int64\n",
      "-----------------------\n",
      "\n",
      "bedrooms      0\n",
      "bathrooms     0\n",
      "sqft          0\n",
      "tax_value     0\n",
      "year_built    0\n",
      "tax_amt       0\n",
      "fips          0\n",
      "dtype: int64\n",
      "-----------------------\n",
      "\n",
      "bedrooms      0\n",
      "bathrooms     0\n",
      "sqft          0\n",
      "tax_value     0\n",
      "year_built    0\n",
      "tax_amt       0\n",
      "fips          0\n",
      "dtype: int64\n",
      "-----------------------\n",
      "\n"
     ]
    }
   ],
   "source": [
    "# for loop to verify missing values imputed in all three datasets\n",
    "\n",
    "for df in train, validate, test:\n",
    "    print(df.isna().sum())\n",
    "    print('-----------------------')\n",
    "    print()"
   ]
  },
  {
   "cell_type": "markdown",
   "id": "4d9e9d2c",
   "metadata": {},
   "source": [
    "# for final wrangle.py file\n",
    ">a. Imports<br>\n",
    "b. `acquire_zillow` function<br>\n",
    "c. `remove_outliers` function<br>\n",
    "d. data visualizations<br>\n",
    "- d-01. `get_hist` histograph function\n",
    "- d-02. `get_box` boxplots function\n",
    "\n",
    "> e. `prepare_zillow` function\n",
    "- e-01. remove outliers\n",
    "- e-02. visualizations to get distributions of numeric data\n",
    "    - e-02a. `get_hist` histographs\n",
    "    - e-02b. `get_box` boxplots\n",
    "- e-03. convert `fips` and `year_built` columns to objects\n",
    "- e-04. train/valiate/test split\n",
    "- e-05. impute year using median\n",
    "\n",
    "## Final function\n",
    "`wrangle_zillow` will take in the above functions and code and return three DataFrames, prepared for exploration"
   ]
  },
  {
   "cell_type": "code",
   "execution_count": null,
   "id": "e098b6e8",
   "metadata": {},
   "outputs": [],
   "source": []
  }
 ],
 "metadata": {
  "kernelspec": {
   "display_name": "Python 3",
   "language": "python",
   "name": "python3"
  },
  "language_info": {
   "codemirror_mode": {
    "name": "ipython",
    "version": 3
   },
   "file_extension": ".py",
   "mimetype": "text/x-python",
   "name": "python",
   "nbconvert_exporter": "python",
   "pygments_lexer": "ipython3",
   "version": "3.8.8"
  }
 },
 "nbformat": 4,
 "nbformat_minor": 5
}
